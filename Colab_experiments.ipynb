{
 "cells": [
  {
   "cell_type": "code",
   "execution_count": 1,
   "metadata": {},
   "outputs": [],
   "source": [
    "%load_ext autoreload\n",
    "%autoreload 2"
   ]
  },
  {
   "cell_type": "code",
   "execution_count": 2,
   "metadata": {},
   "outputs": [],
   "source": [
    "from gameanalysis import rsgame, paygame, nash, learning\n",
    "import numpy as np\n",
    "import time\n",
    "import matplotlib.pyplot as plt\n",
    "import colabutils\n",
    "import environment.wrapper as wrapper\n",
    "from environment import colabenv\n",
    "import tqdm\n",
    "import experiment"
   ]
  },
  {
   "cell_type": "code",
   "execution_count": 3,
   "metadata": {},
   "outputs": [],
   "source": [
    "np.set_printoptions(precision=2, suppress=True)"
   ]
  },
  {
   "cell_type": "markdown",
   "metadata": {},
   "source": [
    "## NE Experiment w/ Same Payoff Weights"
   ]
  },
  {
   "cell_type": "code",
   "execution_count": 188,
   "metadata": {},
   "outputs": [],
   "source": [
    "from environment.colabenv import ColabSim\n",
    "from environment.colabagent import ColabCtrlAgent"
   ]
  },
  {
   "cell_type": "code",
   "execution_count": 200,
   "metadata": {},
   "outputs": [],
   "source": [
    "# Parameters\n",
    "penalty_weight = np.array([[2,50,1.5],[2,50,1.5]])\n",
    "time_limit = 100\n",
    "# Simulate and create game\n",
    "sim = colabenv.ColabSim(2,2,time_limit=time_limit, penalty_weight=penalty_weight)\n",
    "players = [1,1]\n",
    "strategies = [8,8]\n",
    "g = rsgame.empty(players, strategies)\n",
    "profiles = g.all_profiles()\n",
    "payoffs = np.zeros(profiles.shape)\n",
    "for i,p in enumerate(profiles):\n",
    "    payoffs[i] = ( -colabutils.estimate_payoff(sim, p, n=1) )\n",
    "payoffs = np.array(payoffs)\n",
    "pg = paygame.game(players, strategies, profiles, payoffs)"
   ]
  },
  {
   "cell_type": "code",
   "execution_count": 201,
   "metadata": {},
   "outputs": [
    {
     "data": {
      "text/plain": [
       "array([0., 0., 0., 0., 0., 1., 0., 0., 0., 0., 1., 0., 0., 0., 0., 0.])"
      ]
     },
     "execution_count": 201,
     "metadata": {},
     "output_type": "execute_result"
    }
   ],
   "source": [
    "ne = nash.fictitious_play(pg, prof=pg.random_mixture())\n",
    "ne"
   ]
  },
  {
   "cell_type": "markdown",
   "metadata": {},
   "source": [
    "## Draw payoff table"
   ]
  },
  {
   "cell_type": "code",
   "execution_count": 202,
   "metadata": {},
   "outputs": [],
   "source": [
    "S = 8\n",
    "table1 = np.zeros((8,8))\n",
    "table2 = np.zeros((8,8))\n",
    "for i, p in enumerate(profiles):\n",
    "    num1 = np.where(p[:S]==1)[0][0]\n",
    "    num2 = np.where(p[S:]==1)[0][0]\n",
    "    table1[num1, num2] = payoffs[i][:S].min()\n",
    "    table2[num1, num2] = payoffs[i][S:].min()"
   ]
  },
  {
   "cell_type": "code",
   "execution_count": 203,
   "metadata": {
    "scrolled": true
   },
   "outputs": [
    {
     "name": "stdout",
     "output_type": "stream",
     "text": [
      "[[ -944.05 -1094.66  -970.07 -1221.37 -1066.22 -1098.68  -956.99 -1190.31]\n",
      " [ -747.07 -1136.8   -782.7  -1107.49  -765.98  -995.06  -780.51 -1001.89]\n",
      " [ -938.23  -908.8   -994.49 -1933.46  -979.17  -906.81  -969.84 -1344.73]\n",
      " [ -845.82  -973.84 -1097.56 -1755.95  -879.17  -889.81  -983.45 -1612.36]\n",
      " [ -955.59 -1131.6   -929.49 -1156.9  -1382.92 -1082.9  -1372.63 -1544.96]\n",
      " [ -770.05 -1023.32  -747.41  -969.51 -1166.48 -1305.59 -1222.12 -1249.  ]\n",
      " [ -920.58  -900.26 -1129.48 -1990.27 -1468.57 -1308.42 -1505.79 -1942.99]\n",
      " [ -827.93  -858.76  -934.49 -1626.49 -1365.96 -1152.07 -1367.39 -2460.63]]\n"
     ]
    }
   ],
   "source": [
    "print(table1)"
   ]
  },
  {
   "cell_type": "code",
   "execution_count": 204,
   "metadata": {},
   "outputs": [
    {
     "data": {
      "image/png": "[encoded data removed]",
      "text/plain": [
       "<Figure size 432x288 with 1 Axes>"
      ]
     },
     "metadata": {
      "needs_background": "light"
     },
     "output_type": "display_data"
    }
   ],
   "source": [
    "labels = [str(colabutils.number_to_strat(i)) for i in range(8)]\n",
    "fig, ax = plt.subplots()\n",
    "im = ax.imshow(table1)\n",
    "\n",
    "# We want to show all ticks...\n",
    "ax.set_xticks(np.arange(S))\n",
    "ax.set_yticks(np.arange(S))\n",
    "# ... and label them with the respective list entries\n",
    "ax.set_xticklabels(labels)\n",
    "ax.set_yticklabels(labels)\n",
    "# Rotate the tick labels and set their alignment.\n",
    "_ = plt.setp(ax.get_xticklabels(), rotation=45, ha=\"right\",\n",
    "         rotation_mode=\"anchor\")\n",
    "# Plot Eq\n",
    "p1_ne_strats = np.arange(8)[ne[:8] > 1e-2]\n",
    "p2_ne_strats = np.arange(8)[ne[8:] > 1e-2]\n",
    "for i in p1_ne_strats:\n",
    "    plt.plot([0,7],[i,i], 'r', alpha=ne[i])\n",
    "for j in p2_ne_strats:\n",
    "    plt.plot([j,j],[0,7], 'r', alpha=ne[8+j])"
   ]
  },
  {
   "cell_type": "markdown",
   "metadata": {},
   "source": [
    "## NE Strategy"
   ]
  },
  {
   "cell_type": "code",
   "execution_count": 182,
   "metadata": {},
   "outputs": [],
   "source": [
    "def find_nash(sim):\n",
    "    players = [1,1]\n",
    "    strategies = [8,8]\n",
    "    g = rsgame.empty(players, strategies)\n",
    "    profiles = g.all_profiles()\n",
    "    payoffs = np.zeros(profiles.shape)\n",
    "    for i,p in enumerate(profiles):\n",
    "        payoffs[i] = ( -colabutils.estimate_payoff(sim, p, n=1) )\n",
    "    payoffs = np.array(payoffs)\n",
    "    pg = paygame.game(players, strategies, profiles, payoffs)\n",
    "    ne = nash.fictitious_play(pg, prof=pg.random_mixture())\n",
    "    return ne"
   ]
  },
  {
   "cell_type": "code",
   "execution_count": 185,
   "metadata": {},
   "outputs": [
    {
     "data": {
      "text/plain": [
       "array([0., 0., 0., 0., 0., 1., 0., 0., 0., 0., 1., 0., 0., 0., 0., 0.])"
      ]
     },
     "execution_count": 185,
     "metadata": {},
     "output_type": "execute_result"
    }
   ],
   "source": [
    "find_nash(sim)"
   ]
  }
 ],
 "metadata": {
  "kernelspec": {
   "display_name": "Python 3",
   "language": "python",
   "name": "python3"
  },
  "language_info": {
   "codemirror_mode": {
    "name": "ipython",
    "version": 3
   },
   "file_extension": ".py",
   "mimetype": "text/x-python",
   "name": "python",
   "nbconvert_exporter": "python",
   "pygments_lexer": "ipython3",
   "version": "3.8.5"
  }
 },
 "nbformat": 4,
 "nbformat_minor": 4
}
